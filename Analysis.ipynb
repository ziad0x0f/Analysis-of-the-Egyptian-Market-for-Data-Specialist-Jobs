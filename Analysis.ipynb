{
 "cells": [
  {
   "cell_type": "code",
   "execution_count": 2,
   "metadata": {},
   "outputs": [],
   "source": [
    "import pandas as pd\n",
    "import numpy as np\n",
    "import matplotlib.pyplot as plt\n",
    "import matplotlib.ticker as ticker\n",
    "import seaborn as sns\n",
    "import scrapping_with_selenium as sc  # scrapping_with_selenium: past project which scrapes data from wuzzuf(check it in my past repo)"
   ]
  },
  {
   "cell_type": "code",
   "execution_count": null,
   "metadata": {},
   "outputs": [],
   "source": [
    "# the function which scrapes the data for the firt 150\n",
    "df = sc.scraper(\"Data\", 150, [\"Data Engineer\",\"Analyst\", \"Data Scientist\", \"Bi\", \"Business Intelligence\",\"Data Entry\"])"
   ]
  },
  {
   "cell_type": "code",
   "execution_count": null,
   "metadata": {},
   "outputs": [],
   "source": [
    "df.to_csv(\"D:\\Projects\\Data Roles Market\\df.csv\")"
   ]
  },
  {
   "cell_type": "code",
   "execution_count": 14,
   "metadata": {},
   "outputs": [],
   "source": [
    "# read the csv file \n",
    "table = pd.read_csv(\"D:\\Projects\\Data Roles Market\\df.csv\")\n",
    "table.drop(columns=table.columns[0], axis=1,  inplace=True) # drop first unnamed index column"
   ]
  },
  {
   "cell_type": "code",
   "execution_count": 15,
   "metadata": {},
   "outputs": [],
   "source": [
    "table= table[\n",
    "table[\"job title\"].str.contains(\"Data\") |\n",
    "table[\"job title\"].str.contains(\"Analyst\") |\n",
    "table[\"job title\"].str.contains(\"BI\")\n",
    "]\n"
   ]
  },
  {
   "cell_type": "code",
   "execution_count": 16,
   "metadata": {},
   "outputs": [],
   "source": [
    "# create a list of our conditions\n",
    "conditions = [\n",
    "table[\"job title\"].str.contains(\"entry\"),\n",
    "table[\"job title\"].str.contains(\"Entry\"),\n",
    "table[\"job title\"].str.contains(\"Analyst\"),\n",
    "table[\"job title\"].str.contains(\"BI\"),\n",
    "table[\"job title\"].str.contains(\"Engineer\"),\n",
    "table[\"job title\"].str.contains(\"Scientist\")\n",
    "]\n",
    "\n",
    "# create a list of the values we want to assign for each condition\n",
    "values = ['data entry', 'data entry', 'data analyst', 'bi developer','data engineer', 'data scientist']\n",
    "\n",
    "# create a new column and use np.select to assign values to it using our lists as arguments\n",
    "table['roles'] = np.select(conditions, values)"
   ]
  },
  {
   "cell_type": "code",
   "execution_count": 17,
   "metadata": {},
   "outputs": [],
   "source": [
    "table[[\"city\",\"state\",\"country\"]] = table['location'].str.split(',', expand=True)\n",
    " "
   ]
  },
  {
   "cell_type": "code",
   "execution_count": 18,
   "metadata": {},
   "outputs": [],
   "source": [
    "table[\"company\"] = table[\"company\"].str.replace(\" -\", \"\")\n",
    "table[\"experience\"] = table[\"experience\"].str.replace(\" \", \"\")\n",
    "table[\"experience\"] = table[\"experience\"].str.findall(\".(.+?)Y\")\n",
    "table[\"experience\"] = [''.join(map(str, l)) for l in table[\"experience\"]]"
   ]
  },
  {
   "cell_type": "code",
   "execution_count": 19,
   "metadata": {},
   "outputs": [],
   "source": [
    "# create a list of our conditions\n",
    "conditions = [\n",
    "table[\"experience\"].str.contains(\"^0.*\"),\n",
    "table[\"experience\"].str.contains(\"^1.*\"),\n",
    "table[\"experience\"].str.contains(\"^[23].*\"),\n",
    "table[\"experience\"].str.contains(\"^[45].*\"),\n",
    "table[\"experience\"].str.contains(\"^[67].*\")\n",
    "]\n",
    "\n",
    "# create a list of the values we want to assign for each condition\n",
    "values = ['entry level', 'junior', 'mid level', 'senior','team lead']\n",
    "\n",
    "# create a new column and use np.select to assign values to it using our lists as arguments\n",
    "table['levels'] = np.select(conditions, values)"
   ]
  },
  {
   "cell_type": "code",
   "execution_count": 32,
   "metadata": {},
   "outputs": [],
   "source": [
    "# for data entry roles\n",
    "data_entry_cond=[\n",
    "(table['roles'] == 'data entry') &\n",
    "(table[\"salaries\"].str.contains(\"Confidential\")) &\n",
    "(table['levels'] == 'entry level'),\n",
    "\n",
    "(table['roles'] == 'data entry') &\n",
    "(table[\"salaries\"].str.contains(\"Confidential\")) &\n",
    "(table['levels'] == 'junior'),\n",
    "\n",
    "(table['roles'] == 'data entry') &\n",
    "(table[\"salaries\"].str.contains(\"Confidential\")) &\n",
    "(table['levels'] == 'mid level')\n",
    "]\n",
    "\n",
    "table['salaries'] = np.where(data_entry_cond[0], 4000, table['salaries'])\n",
    "table['salaries'] = np.where((data_entry_cond[1]) | (data_entry_cond[2]) , 5400, table['salaries'])\n",
    "\n",
    "# for data analyst roles\n",
    "data_analyst_cond=[\n",
    "(table['roles'] == 'data analyst') &\n",
    "(table[\"salaries\"].str.contains(\"Confidential\")) &\n",
    "(table['levels'] == 'entry level'),\n",
    "\n",
    "(table['roles'] == 'data analyst') &\n",
    "(table[\"salaries\"].str.contains(\"Confidential\")) &\n",
    "(table['levels'] == 'junior'),\n",
    "\n",
    "(table['roles'] == 'data analyst') &\n",
    "(table[\"salaries\"].str.contains(\"Confidential\")) &\n",
    "(table['levels'] == 'mid level'),\n",
    "\n",
    "(table['roles'] == 'data analyst') &\n",
    "(table[\"salaries\"].str.contains(\"Confidential\")) &\n",
    "(table['levels'] == 'senior'),\n",
    "\n",
    "(table['roles'] == 'data analyst') &\n",
    "(table[\"salaries\"].str.contains(\"Confidential\")) &\n",
    "(table['levels'] == 'team lead')\n",
    "]\n",
    "\n",
    "salaries = [6000, 8000, 10950, 28500, 28500]\n",
    "for _ in range(len(data_analyst_cond)):\n",
    "    table['salaries'] = np.where(data_analyst_cond[_], salaries[_], table['salaries'])\n",
    "\n",
    "# for bi developer roles\n",
    "bi_cond=[\n",
    "(table['roles'] == 'bi developer') &\n",
    "(table[\"salaries\"].str.contains(\"Confidential\")) &\n",
    "(table['levels'] == 'entry level'),\n",
    "\n",
    "(table['roles'] == 'bi developer') &\n",
    "(table[\"salaries\"].str.contains(\"Confidential\")) &\n",
    "(table['levels'] == 'junior'),\n",
    "\n",
    "(table['roles'] == 'bi developer') &\n",
    "(table[\"salaries\"].str.contains(\"Confidential\")) &\n",
    "(table['levels'] == 'mid level'),\n",
    "\n",
    "(table['roles'] == 'bi developer') &\n",
    "(table[\"salaries\"].str.contains(\"Confidential\")) &\n",
    "(table['levels'] == 'senior'),\n",
    "\n",
    "(table['roles'] == 'bi developer') &\n",
    "(table[\"salaries\"].str.contains(\"Confidential\")) &\n",
    "(table['levels'] == 'team lead')\n",
    "]\n",
    "\n",
    "salaries = [5625, 8550, 10000, 15000, 20000]\n",
    "for _ in range(len(bi_cond)):\n",
    "    table['salaries'] = np.where(bi_cond[_], salaries[_], table['salaries'])\n",
    "\n",
    "# for Data engineer roles\n",
    "data_eng_cond=[\n",
    "(table['roles'] == 'data engineer') &\n",
    "(table[\"salaries\"].str.contains(\"Confidential\")) &\n",
    "(table['levels'] == 'entry level'),\n",
    "\n",
    "(table['roles'] == 'data engineer') &\n",
    "(table[\"salaries\"].str.contains(\"Confidential\")) &\n",
    "(table['levels'] == 'junior'),\n",
    "\n",
    "(table['roles'] == 'data engineer') &\n",
    "(table[\"salaries\"].str.contains(\"Confidential\")) &\n",
    "(table['levels'] == 'mid level'),\n",
    "\n",
    "(table['roles'] == 'data engineer') &\n",
    "(table[\"salaries\"].str.contains(\"Confidential\")) &\n",
    "(table['levels'] == 'senior'),\n",
    "\n",
    "(table['roles'] == 'data engineer') &\n",
    "(table[\"salaries\"].str.contains(\"Confidential\")) &\n",
    "(table['levels'] == 'team lead')\n",
    "]\n",
    "\n",
    "salaries = [9000, 10375, 23000, 30000, 47000]\n",
    "for _ in range(len(data_eng_cond)):\n",
    "    table['salaries'] = np.where(data_eng_cond[_], salaries[_], table['salaries'])\n",
    "\n",
    "# for Data scientist roles\n",
    "data_sci_cond=[\n",
    "(table['roles'] == 'data scientist') &\n",
    "(table[\"salaries\"].str.contains(\"Confidential\")) &\n",
    "(table['levels'] == 'entry level'),\n",
    "\n",
    "(table['roles'] == 'data scientist') &\n",
    "(table[\"salaries\"].str.contains(\"Confidential\")) &\n",
    "(table['levels'] == 'junior'),\n",
    "\n",
    "(table['roles'] == 'data scientist') &\n",
    "(table[\"salaries\"].str.contains(\"Confidential\")) &\n",
    "(table['levels'] == 'mid level'),\n",
    "\n",
    "(table['roles'] == 'data scientist') &\n",
    "(table[\"salaries\"].str.contains(\"Confidential\")) &\n",
    "(table['levels'] == 'senior'),\n",
    "\n",
    "(table['roles'] == 'data scientist') &\n",
    "(table[\"salaries\"].str.contains(\"Confidential\")) &\n",
    "(table['levels'] == 'team lead')\n",
    "]\n",
    "\n",
    "salaries = [9400, 11000, 19200, 39584, 67815]\n",
    "for _ in range(len(data_sci_cond)):\n",
    "    table['salaries'] = np.where(data_sci_cond[_], salaries[_], table['salaries'])\n"
   ]
  }
 ],
 "metadata": {
  "kernelspec": {
   "display_name": "Python 3",
   "language": "python",
   "name": "python3"
  },
  "language_info": {
   "codemirror_mode": {
    "name": "ipython",
    "version": 3
   },
   "file_extension": ".py",
   "mimetype": "text/x-python",
   "name": "python",
   "nbconvert_exporter": "python",
   "pygments_lexer": "ipython3",
   "version": "3.11.1"
  },
  "orig_nbformat": 4,
  "vscode": {
   "interpreter": {
    "hash": "5238573367df39f7286bb46f9ff5f08f63a01a80960060ce41e3c79b190280fa"
   }
  }
 },
 "nbformat": 4,
 "nbformat_minor": 2
}
