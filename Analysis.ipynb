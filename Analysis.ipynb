{
 "cells": [
  {
   "cell_type": "code",
   "execution_count": 1,
   "metadata": {},
   "outputs": [],
   "source": [
    "import re\n",
    "import statistics as stat\n",
    "import pandas as pd\n",
    "import numpy as np\n",
    "import matplotlib.pyplot as plt\n",
    "import matplotlib.ticker as ticker\n",
    "import seaborn as sns\n",
    "from difflib import SequenceMatcher\n",
    "import scrapping_with_selenium as sc  # scrapping_with_selenium: past project which scrapes data from wuzzuf(check it in my past repo)"
   ]
  },
  {
   "cell_type": "code",
   "execution_count": 10,
   "metadata": {},
   "outputs": [],
   "source": [
    "# the function which scrapes the data for the first 150 pages\n",
    "table = sc.scraper(\"Data\", 110, [\"Analyst\", \"Data Engineer\", \"Data Scientist\", \"Bi\", \"Business Intelligence\"])"
   ]
  },
  {
   "cell_type": "code",
   "execution_count": 11,
   "metadata": {},
   "outputs": [],
   "source": [
    "table.to_csv(\"D:\\Projects\\Data Roles Market\\df.csv\", index = False)"
   ]
  },
  {
   "cell_type": "code",
   "execution_count": 32,
   "metadata": {},
   "outputs": [],
   "source": [
    "# read the csv file \n",
    "df = pd.read_csv(\"D:\\Projects\\Data Roles Market\\df.csv\")"
   ]
  },
  {
   "cell_type": "code",
   "execution_count": 33,
   "metadata": {},
   "outputs": [],
   "source": [
    "# only keep job titles that contains(Data, Analyst & Bi)\n",
    "df2 = df.copy()\n",
    "df2 = df2[\n",
    "df2[\"job_title\"].str.contains(\"Data\") |\n",
    "df2[\"job_title\"].str.contains(\"Analyst\") |\n",
    "df2[\"job_title\"].str.contains(\"BI\")\n",
    "].copy()"
   ]
  },
  {
   "cell_type": "code",
   "execution_count": 35,
   "metadata": {},
   "outputs": [],
   "source": [
    "# create a list of our conditions\n",
    "conditions = [\n",
    "df2[\"job_title\"].str.contains(\"Analyst\") | df2[\"job_title\"].str.contains(\"Analysis\") ,\n",
    "df2[\"job_title\"].str.contains(\"BI\"),\n",
    "df2[\"job_title\"].str.contains(\"Engineer\"),\n",
    "df2[\"job_title\"].str.contains(\"Scientist\")\n",
    "]\n",
    "\n",
    "# create a list of the values we want to assign for each condition\n",
    "values = ['data analyst', 'bi developer', 'data engineer', 'data scientist']\n",
    "\n",
    "# create a new column and use np.select to assign values to it using our lists as arguments\n",
    "df2['roles'] = np.select(conditions, values)\n",
    "df2 = df2[df2.roles.isin(values) == True]"
   ]
  },
  {
   "cell_type": "code",
   "execution_count": 36,
   "metadata": {},
   "outputs": [],
   "source": [
    "# extract cities only\n",
    "df2[\"location\"] = df2[\"location\"].map(lambda x: x.split(',')[0])"
   ]
  },
  {
   "cell_type": "code",
   "execution_count": 37,
   "metadata": {},
   "outputs": [],
   "source": [
    "# clean companies names & extract experience range\n",
    "df2[\"company\"] = df2[\"company\"].str.replace(\" -\", \"\")\n",
    "df2[\"experience\"] = df2[\"experience\"].str.replace(\" \", \"\")\n",
    "df2[\"experience\"] = df2[\"experience\"].str.findall(\".(.+?)Y\")\n",
    "df2[\"experience\"] = [''.join(map(str, l)) for l in df2[\"experience\"]]"
   ]
  },
  {
   "cell_type": "code",
   "execution_count": 38,
   "metadata": {},
   "outputs": [],
   "source": [
    "conditions = [\n",
    "df2[\"experience\"].str.contains(\"^0.*\"),\n",
    "df2[\"experience\"].str.contains(\"^1.*\"),\n",
    "df2[\"experience\"].str.contains(\"^[23].*\"),\n",
    "df2[\"experience\"].str.contains(\"^[45].*\"),\n",
    "df2[\"experience\"].str.contains(\"^[67].*\")\n",
    "]\n",
    "\n",
    "values = ['entry level', 'junior', 'mid level', 'senior', 'team lead']\n",
    "\n",
    "df2['levels'] = np.select(conditions, values)"
   ]
  },
  {
   "cell_type": "code",
   "execution_count": 39,
   "metadata": {},
   "outputs": [],
   "source": [
    "def clean_salaries(df, rol, lst):\n",
    "        \n",
    "        conds=[\n",
    "        (df['roles'] == rol) &\n",
    "        ((df[\"salaries\"].str.contains(\"Confidential\")) | (df[\"salaries\"].str.contains(\"Male\")) | (df[\"salaries\"].str.contains(\"Females\"))) &\n",
    "        (df['levels'] == 'entry level'),\n",
    "\n",
    "        (df['roles'] == rol) &\n",
    "        ((df[\"salaries\"].str.contains(\"Confidential\")) | (df[\"salaries\"].str.contains(\"Male\")) | (df[\"salaries\"].str.contains(\"Females\"))) &\n",
    "        (df['levels'] == 'junior'),\n",
    "\n",
    "        (df['roles'] == rol) &\n",
    "        ((df[\"salaries\"].str.contains(\"Confidential\")) | (df[\"salaries\"].str.contains(\"Male\")) | (df[\"salaries\"].str.contains(\"Females\"))) &\n",
    "        (df['levels'] == 'mid level'),\n",
    "\n",
    "        (df['roles'] == rol) &\n",
    "        ((df[\"salaries\"].str.contains(\"Confidential\")) | (df[\"salaries\"].str.contains(\"Male\")) | (df[\"salaries\"].str.contains(\"Females\"))) &\n",
    "        (df['levels'] == 'senior'),\n",
    "\n",
    "        (df['roles'] == rol) &\n",
    "        ((df[\"salaries\"].str.contains(\"Confidential\")) | (df[\"salaries\"].str.contains(\"Male\")) | (df[\"salaries\"].str.contains(\"Females\"))) &\n",
    "        (df['levels'] == 'team lead')\n",
    "        ]\n",
    "\n",
    "        for _ in range(len(conds)):\n",
    "                df['salaries'] = np.where(conds[_], lst[_], df[\"salaries\"])\n"
   ]
  },
  {
   "cell_type": "code",
   "execution_count": 40,
   "metadata": {},
   "outputs": [],
   "source": [
    "# replace confidential with avg market salaries lists\n",
    "sal = {\n",
    "    \"data analyst\":[6000, 8000, 10950, 28500, 28500],\n",
    "    \"bi developer\":[5625, 8550, 10000, 15000, 20000],\n",
    "    \"data engineer\":[9000, 10375, 23000, 30000, 47000],\n",
    "    \"data scientist\":[9400, 11000, 19200, 39584, 67815]\n",
    "}\n",
    "\n",
    "for i in sal:\n",
    "    clean_salaries(df2, i, sal[i])        "
   ]
  },
  {
   "cell_type": "code",
   "execution_count": 41,
   "metadata": {},
   "outputs": [],
   "source": [
    "# replace (\"number\" To \"number\") expression, to only mean value\n",
    "df2[\"salaries\"] = df2[\"salaries\"].apply(lambda salary: re.findall((r\"\\d+\"), salary) if type(salary) == str else salary)\n",
    "df2[\"salaries\"] = df2[\"salaries\"].apply(lambda salary: list(map(int, salary)) if type(salary) == list else salary)\n",
    "df2[\"salaries\"] = df2[\"salaries\"].apply(lambda salary: stat.mean(salary) if type(salary) == list else salary)\n",
    "df2[\"salaries\"] = df2[\"salaries\"].round()"
   ]
  },
  {
   "cell_type": "code",
   "execution_count": 23,
   "metadata": {},
   "outputs": [],
   "source": [
    "# def is_string_similar(s1: str , s2: str, threshold: float = 0.8):\n",
    "#    return SequenceMatcher(a = s1.lower(), b = s2.lower()).ratio() >= threshold"
   ]
  },
  {
   "cell_type": "code",
   "execution_count": 24,
   "metadata": {},
   "outputs": [],
   "source": [
    "# def clean_skills(df, keys):\n",
    "#     for k in keys:\n",
    "#         for s in df.skill:\n",
    "#             if  is_string_similar(s, k, 0.65):\n",
    "#                 df.skill = df.skill.str.replace(s, k)"
   ]
  },
  {
   "cell_type": "code",
   "execution_count": 46,
   "metadata": {},
   "outputs": [],
   "source": [
    "# # keep only this list of skills\n",
    "# skills_keywords= ['Tableau',  'python', 'word', 'machine learning', 'neural networks', 'Excel',\n",
    "# 'powerpoint', 'r', 'slack', 'coding', 'looker', 'hadoop', 'AWS', 'spark', 'Statistics', \n",
    "# 'outlook', 'azure', 'jira', 'twilio', 'SQL Server', 'snowflake', 'warehousing', 'scrum',\n",
    "# 'power bi', 'shell', 'linux', 'sharepoint', 'devops', 'c#', 'visio', 'SSRS', 'Oracle',\n",
    "# 'javascript', 'vba', 'java', 'spreadsheets', '.NET', 'postgres', 'spss', 'SSIS',\n",
    "# 'Office', 'scala', 'alteryx', 'github', 'English', 'HiveQl', 'Arabic', 'German']\n",
    "\n",
    "# clean_skills(df2, skills_keywords)"
   ]
  },
  {
   "cell_type": "code",
   "execution_count": 47,
   "metadata": {},
   "outputs": [],
   "source": [
    "# continue the list of conditions\n",
    "conditions = [\n",
    "df2[\"skill\"].str.contains(\"(?i)excel\") | df2[\"skill\"].str.contains(\"(?i)office\") | df2[\"skill\"].str.contains(\"(?i)Accounting\"),\n",
    "df2[\"skill\"].str.contains(\"(?i)power bi\") | df2[\"skill\"].str.fullmatch(\"(?i)bi\"),\n",
    "df2[\"skill\"].str.contains(\"(?i)sql server\") | df2[\"skill\"].str.fullmatch(\"(?i)ssis\"),\n",
    "df2[\"skill\"].str.fullmatch(\"(?i)sql\"),\n",
    "df2[\"skill\"].str.contains(\"(?i)computer science\") | df2[\"skill\"].str.fullmatch(\"(?i)coding\"),\n",
    "df2[\"skill\"].str.fullmatch(\"(?i)Tableau\"),\n",
    "df2[\"skill\"].str.fullmatch(\"(?i)Statistics\"),\n",
    "df2[\"skill\"].str.fullmatch(\"(?i)python\"),\n",
    "df2[\"skill\"].str.contains(\"(?i)spark\")\n",
    "]\n",
    "\n",
    "values = ['excel', 'power bi', 'sql server', 'sql', 'programming', 'tableau', 'Statistics', 'python', 'spark']\n",
    "\n",
    "df2['skill'] = np.select(conditions, values)\n",
    "df2 = df2[df2.skill.isin(values) == True]"
   ]
  },
  {
   "cell_type": "code",
   "execution_count": 48,
   "metadata": {},
   "outputs": [],
   "source": [
    "df1_g = df.groupby([\"skill\"], as_index=False)[\"job_id\"].count()\n",
    "df2_g = df2.groupby([\"skill\"], as_index=False)[\"job_id\"].count()\n"
   ]
  },
  {
   "cell_type": "markdown",
   "metadata": {},
   "source": [
    "# EDA"
   ]
  },
  {
   "cell_type": "code",
   "execution_count": 59,
   "metadata": {},
   "outputs": [
    {
     "data": {
      "image/png": "[encoded data removed]",
      "text/plain": [
       "<Figure size 640x480 with 1 Axes>"
      ]
     },
     "metadata": {},
     "output_type": "display_data"
    }
   ],
   "source": [
    "ax = sns.barplot(x= df2_g.skill, y= df2_g.job_id)\n",
    "ax.tick_params(axis='x', rotation=30)"
   ]
  }
 ],
 "metadata": {
  "kernelspec": {
   "display_name": "Python 3",
   "language": "python",
   "name": "python3"
  },
  "language_info": {
   "codemirror_mode": {
    "name": "ipython",
    "version": 3
   },
   "file_extension": ".py",
   "mimetype": "text/x-python",
   "name": "python",
   "nbconvert_exporter": "python",
   "pygments_lexer": "ipython3",
   "version": "3.11.1"
  },
  "orig_nbformat": 4,
  "vscode": {
   "interpreter": {
    "hash": "5238573367df39f7286bb46f9ff5f08f63a01a80960060ce41e3c79b190280fa"
   }
  }
 },
 "nbformat": 4,
 "nbformat_minor": 2
}
