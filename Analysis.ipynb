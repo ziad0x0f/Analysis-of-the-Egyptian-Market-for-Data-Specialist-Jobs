{
 "cells": [
  {
   "cell_type": "code",
   "execution_count": 1,
   "metadata": {},
   "outputs": [],
   "source": [
    "import pandas as pd\n",
    "import numpy as np\n",
    "import matplotlib.pyplot as plt\n",
    "import matplotlib.ticker as ticker\n",
    "import seaborn as sns\n",
    "import scrapping_with_selenium as sc  # scrapping_with_selenium: past project which scrapes data from wuzzuf(check it in my past repo)"
   ]
  },
  {
   "cell_type": "code",
   "execution_count": null,
   "metadata": {},
   "outputs": [],
   "source": [
    "# the function which scrapes the data for the firt 150\n",
    "df = sc.scraper(\"Data\", 150, [\"Data Engineer\",\"Analyst\", \"Data Scientist\", \"Bi\", \"Business Intelligence\",\"Data Entry\"])"
   ]
  },
  {
   "cell_type": "code",
   "execution_count": null,
   "metadata": {},
   "outputs": [],
   "source": [
    "df.to_csv(\"D:\\Projects\\Data Roles Market\\df.csv\")"
   ]
  },
  {
   "cell_type": "code",
   "execution_count": 3,
   "metadata": {},
   "outputs": [],
   "source": [
    "# read the csv file \n",
    "table = pd.read_csv(\"D:\\Projects\\Data Roles Market\\df.csv\")\n",
    "table.drop(columns=table.columns[0], axis=1,  inplace=True) # drop first unnamed index column"
   ]
  },
  {
   "cell_type": "code",
   "execution_count": 4,
   "metadata": {},
   "outputs": [],
   "source": [
    "table= table[\n",
    "table[\"job title\"].str.contains(\"Data\") |\n",
    "table[\"job title\"].str.contains(\"Analyst\") |\n",
    "table[\"job title\"].str.contains(\"BI\")\n",
    "]\n"
   ]
  },
  {
   "cell_type": "code",
   "execution_count": 5,
   "metadata": {},
   "outputs": [],
   "source": [
    "# create a list of our conditions\n",
    "conditions = [\n",
    "table[\"job title\"].str.contains(\"entry\"),\n",
    "table[\"job title\"].str.contains(\"Entry\"),\n",
    "table[\"job title\"].str.contains(\"Analyst\"),\n",
    "table[\"job title\"].str.contains(\"BI\"),\n",
    "table[\"job title\"].str.contains(\"Engineer\"),\n",
    "table[\"job title\"].str.contains(\"Scientist\")\n",
    "]\n",
    "\n",
    "# create a list of the values we want to assign for each condition\n",
    "values = ['data entry', 'data entry', 'data analyst', 'bi developer','data engineer', 'data scientist']\n",
    "\n",
    "# create a new column and use np.select to assign values to it using our lists as arguments\n",
    "table['roles'] = np.select(conditions, values)"
   ]
  },
  {
   "cell_type": "code",
   "execution_count": 6,
   "metadata": {},
   "outputs": [],
   "source": [
    "table[[\"city\",\"state\",\"country\"]] = table['location'].str.split(',', expand=True)\n",
    " "
   ]
  },
  {
   "cell_type": "code",
   "execution_count": 7,
   "metadata": {},
   "outputs": [],
   "source": [
    "table[\"experience\"] = table[\"experience\"].str.replace(\" \", \"\")\n",
    "table[\"experience\"] = table[\"experience\"].str.findall(\".(.+?)Y\")\n",
    "table[\"experience\"] = [''.join(map(str, l)) for l in table[\"experience\"]]"
   ]
  },
  {
   "cell_type": "code",
   "execution_count": 8,
   "metadata": {},
   "outputs": [],
   "source": [
    "# create a list of our conditions\n",
    "conditions = [\n",
    "table[\"experience\"].str.contains(\"^0.*\"),\n",
    "table[\"experience\"].str.contains(\"^1.*\"),\n",
    "table[\"experience\"].str.contains(\"^[23].*\"),\n",
    "table[\"experience\"].str.contains(\"^[45].*\"),\n",
    "table[\"experience\"].str.contains(\"^[67].*\")\n",
    "]\n",
    "\n",
    "# create a list of the values we want to assign for each condition\n",
    "values = ['entry level', 'junior', 'mid level', 'senior','team lead']\n",
    "\n",
    "# create a new column and use np.select to assign values to it using our lists as arguments\n",
    "table['levels'] = np.select(conditions, values)"
   ]
  }
 ],
 "metadata": {
  "kernelspec": {
   "display_name": "Python 3",
   "language": "python",
   "name": "python3"
  },
  "language_info": {
   "codemirror_mode": {
    "name": "ipython",
    "version": 3
   },
   "file_extension": ".py",
   "mimetype": "text/x-python",
   "name": "python",
   "nbconvert_exporter": "python",
   "pygments_lexer": "ipython3",
   "version": "3.11.1"
  },
  "orig_nbformat": 4,
  "vscode": {
   "interpreter": {
    "hash": "5238573367df39f7286bb46f9ff5f08f63a01a80960060ce41e3c79b190280fa"
   }
  }
 },
 "nbformat": 4,
 "nbformat_minor": 2
}
