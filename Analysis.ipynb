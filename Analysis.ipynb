{
 "cells": [
  {
   "cell_type": "code",
   "execution_count": 1,
   "metadata": {},
   "outputs": [],
   "source": [
    "import pandas as pd\n",
    "import numpy as np\n",
    "import matplotlib.pyplot as plt\n",
    "import matplotlib.ticker as ticker\n",
    "import seaborn as sns\n",
    "import scrapping_with_selenium as sc  # scrapping_with_selenium: past project which scrapes data from wuzzuf(check it in my past repo)"
   ]
  },
  {
   "cell_type": "code",
   "execution_count": null,
   "metadata": {},
   "outputs": [],
   "source": [
    "# the function which scrapes the data for the firt 150\n",
    "table = sc.scraper(\"Data\", 150, [\"Data Engineer\",\"Analyst\", \"Data Scientist\", \"Bi\", \"Business Intelligence\",\"Data Entry\"])"
   ]
  },
  {
   "cell_type": "code",
   "execution_count": null,
   "metadata": {},
   "outputs": [],
   "source": [
    "table.to_csv(\"D:\\Projects\\Data Roles Market\\df.csv\")"
   ]
  },
  {
   "cell_type": "code",
   "execution_count": 23,
   "metadata": {},
   "outputs": [],
   "source": [
    "# read the csv file \n",
    "df = pd.read_csv(\"D:\\Projects\\Data Roles Market\\df.csv\")"
   ]
  },
  {
   "cell_type": "code",
   "execution_count": 24,
   "metadata": {},
   "outputs": [],
   "source": [
    "df= df[\n",
    "df[\"job_title\"].str.contains(\"Data\") |\n",
    "df[\"job_title\"].str.contains(\"Analyst\") |\n",
    "df[\"job_title\"].str.contains(\"BI\")\n",
    "]\n"
   ]
  },
  {
   "cell_type": "code",
   "execution_count": 25,
   "metadata": {},
   "outputs": [],
   "source": [
    "# create a list of our conditions\n",
    "conditions = [\n",
    "df[\"job_title\"].str.contains(\"entry\"),\n",
    "df[\"job_title\"].str.contains(\"Entry\"),\n",
    "df[\"job_title\"].str.contains(\"Analyst\"),\n",
    "df[\"job_title\"].str.contains(\"BI\"),\n",
    "df[\"job_title\"].str.contains(\"Engineer\"),\n",
    "df[\"job_title\"].str.contains(\"Scientist\")\n",
    "]\n",
    "\n",
    "# create a list of the values we want to assign for each condition\n",
    "values = ['data entry', 'data entry', 'data analyst', 'bi developer','data engineer', 'data scientist']\n",
    "\n",
    "# create a new column and use np.select to assign values to it using our lists as arguments\n",
    "df['roles'] = np.select(conditions, values)"
   ]
  },
  {
   "cell_type": "code",
   "execution_count": 26,
   "metadata": {},
   "outputs": [],
   "source": [
    "df[[\"city\",\"state\",\"country\"]] = df['location'].str.split(',', expand=True)\n",
    " "
   ]
  },
  {
   "cell_type": "code",
   "execution_count": 27,
   "metadata": {},
   "outputs": [],
   "source": [
    "df[\"company\"] = df[\"company\"].str.replace(\" -\", \"\")\n",
    "df[\"experience\"] = df[\"experience\"].str.replace(\" \", \"\")\n",
    "df[\"experience\"] = df[\"experience\"].str.findall(\".(.+?)Y\")\n",
    "df[\"experience\"] = [''.join(map(str, l)) for l in df[\"experience\"]]"
   ]
  },
  {
   "cell_type": "code",
   "execution_count": 28,
   "metadata": {},
   "outputs": [],
   "source": [
    "# create a list of our conditions\n",
    "conditions = [\n",
    "df[\"experience\"].str.contains(\"^0.*\"),\n",
    "df[\"experience\"].str.contains(\"^1.*\"),\n",
    "df[\"experience\"].str.contains(\"^[23].*\"),\n",
    "df[\"experience\"].str.contains(\"^[45].*\"),\n",
    "df[\"experience\"].str.contains(\"^[67].*\")\n",
    "]\n",
    "\n",
    "# create a list of the values we want to assign for each condition\n",
    "values = ['entry level', 'junior', 'mid level', 'senior','team lead']\n",
    "\n",
    "# create a new column and use np.select to assign values to it using our lists as arguments\n",
    "df['levels'] = np.select(conditions, values)"
   ]
  },
  {
   "cell_type": "code",
   "execution_count": 218,
   "metadata": {},
   "outputs": [],
   "source": [
    "def clean_salaries(df, rol, lst):\n",
    "        \n",
    "        conds=[\n",
    "        (df['roles'] == rol) &\n",
    "        ((df[\"salaries\"].str.contains(\"Confidential\")) | (df[\"salaries\"].str.contains(\"Male\")) | (df[\"salaries\"].str.contains(\"Females\"))) &\n",
    "        (df['levels'] == 'entry level'),\n",
    "\n",
    "        (df['roles'] == rol) &\n",
    "        ((df[\"salaries\"].str.contains(\"Confidential\")) | (df[\"salaries\"].str.contains(\"Male\")) | (df[\"salaries\"].str.contains(\"Females\"))) &\n",
    "        (df['levels'] == 'junior'),\n",
    "\n",
    "        (df['roles'] == rol) &\n",
    "        ((df[\"salaries\"].str.contains(\"Confidential\")) | (df[\"salaries\"].str.contains(\"Male\")) | (df[\"salaries\"].str.contains(\"Females\"))) &\n",
    "        (df['levels'] == 'mid level'),\n",
    "\n",
    "        (df['roles'] == rol) &\n",
    "        ((df[\"salaries\"].str.contains(\"Confidential\")) | (df[\"salaries\"].str.contains(\"Male\")) | (df[\"salaries\"].str.contains(\"Females\"))) &\n",
    "        (df['levels'] == 'senior'),\n",
    "\n",
    "        (df['roles'] == rol) &\n",
    "        ((df[\"salaries\"].str.contains(\"Confidential\")) | (df[\"salaries\"].str.contains(\"Male\")) | (df[\"salaries\"].str.contains(\"Females\"))) &\n",
    "        (df['levels'] == 'team lead')\n",
    "        ]\n",
    "\n",
    "        for _ in range(len(conds)):\n",
    "                df['salaries'] = np.where(conds[_], lst[_], df[\"salaries\"])\n"
   ]
  },
  {
   "cell_type": "code",
   "execution_count": 219,
   "metadata": {},
   "outputs": [],
   "source": [
    "sal = {\n",
    "    \"data entry\":[4000, 4000, 4000, 5400, 5400],\n",
    "    \"data analyst\":[6000, 8000, 10950, 28500, 28500],\n",
    "    \"bi developer\":[5625, 8550, 10000, 15000, 20000],\n",
    "    \"data engineer\":[9000, 10375, 23000, 30000, 47000],\n",
    "    \"data scientist\":[9400, 11000, 19200, 39584, 67815]\n",
    "}\n",
    "\n",
    "for i in sal:\n",
    "    clean_salaries(df, i, sal[i])\n"
   ]
  },
  {
   "cell_type": "code",
   "execution_count": 33,
   "metadata": {},
   "outputs": [],
   "source": [
    "#lst = df[\"salaries\"].str.findall(\"\\d+\").replace(\", \", \"\")\n"
   ]
  }
 ],
 "metadata": {
  "kernelspec": {
   "display_name": "Python 3",
   "language": "python",
   "name": "python3"
  },
  "language_info": {
   "codemirror_mode": {
    "name": "ipython",
    "version": 3
   },
   "file_extension": ".py",
   "mimetype": "text/x-python",
   "name": "python",
   "nbconvert_exporter": "python",
   "pygments_lexer": "ipython3",
   "version": "3.11.1"
  },
  "orig_nbformat": 4,
  "vscode": {
   "interpreter": {
    "hash": "5238573367df39f7286bb46f9ff5f08f63a01a80960060ce41e3c79b190280fa"
   }
  }
 },
 "nbformat": 4,
 "nbformat_minor": 2
}
